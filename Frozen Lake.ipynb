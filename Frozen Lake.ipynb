{
 "cells": [
  {
   "cell_type": "code",
   "execution_count": 256,
   "metadata": {
    "pycharm": {
     "is_executing": false
    }
   },
   "outputs": [
    {
     "name": "stdout",
     "output_type": "stream",
     "text": [
      "\n",
      "\u001b[41mS\u001b[0mFFFFFFFFFHFFFFHFFHFFFF\n",
      "FFFFFFFHFFHHFHFHHHHFFFH\n",
      "FFHFHFFFFFFFFFHFHFFFHFF\n",
      "FHFFFFFFFFFFFFHFFFFFFHF\n",
      "FFHHHFFFFFFFFFHFFFFHHHF\n",
      "FFFFHFFFFFHFFFFHFHFFFFF\n",
      "FFFFFFFHFFFFFFFFFFFFFHF\n",
      "HFFFFFFFFHFFFFFFFFFHFFF\n",
      "FFFFFFFFHFHFHFHFFFFFFFF\n",
      "FFFFFHFFFFHFHFFFHFFHFFF\n",
      "FHFFFHHHFHFFFFFHFFFFHFF\n",
      "HHFFFFFFFFFFHHFFFFFFFFH\n",
      "FHFHFFFFHFFFFFFFFFFFHFH\n",
      "HFFFFFHFHFFFFFFHFHFFFFH\n",
      "FFFHFFFFFHHFFFHFFHFHFFF\n",
      "FFFFHFFFFFFFFFFHFFFFFFH\n",
      "FFFHFFFHHFFFFHFHFHFFFFF\n",
      "FFFHFHFFFFHFFFFHFFFHFFF\n",
      "FFFFFFHFHFFFFFFHHFFFFFF\n",
      "FFFHFFHFHFFFFFHHFFHFHHF\n",
      "FFFFFFFFHFFFFFFFHFFFHFF\n",
      "FFFFFFFFFFFHFHFFHFFFHHF\n",
      "FFFFFFFFFFFFHFHFFFFHFFG\n"
     ]
    }
   ],
   "source": [
    "import gym\n",
    "import mdptoolbox\n",
    "from hiive.mdptoolbox.mdp import QLearning\n",
    "from gym.envs.toy_text.frozen_lake import generate_random_map\n",
    "import numpy as np\n",
    "import matplotlib.pyplot as plt\n",
    "from Agents import RandomAgent\n",
    "from Agents import ValueIterAgent\n",
    "import random\n",
    "random.seed(0)\n",
    "np.random.seed(0)\n",
    "\n",
    "random_map = generate_random_map(size=23, p=0.8)\n",
    "env = gym.make('FrozenLake-v0', desc=random_map)\n",
    "env.render()"
   ]
  },
  {
   "cell_type": "code",
   "execution_count": 257,
   "metadata": {},
   "outputs": [
    {
     "name": "stdout",
     "output_type": "stream",
     "text": [
      "Total states:  529\n"
     ]
    }
   ],
   "source": [
    "take = env.render(mode='ansi')\n",
    "temp = list(take)\n",
    "world = []\n",
    "for each in temp:\n",
    "    for k in ['S', 'F', 'H', 'G']:\n",
    "        if each == k:\n",
    "            world.append(each)\n",
    "#print(world)\n",
    "size = len(world)\n",
    "print('Total states: ', size)"
   ]
  },
  {
   "cell_type": "code",
   "execution_count": 258,
   "metadata": {
    "pycharm": {
     "is_executing": false
    },
    "scrolled": false
   },
   "outputs": [],
   "source": [
    "P = np.zeros((4, size, size))\n",
    "for action in range(4):\n",
    "    for state in range(size):\n",
    "        if state == size-1:\n",
    "            P[action][state][state] = 1.0\n",
    "        elif world[state] == 'H':\n",
    "            P[action][state][state] = 1.0\n",
    "        else:\n",
    "            for prob in env.P[state][action]:\n",
    "                P[action][state][prob[1]] += (1/3.0)"
   ]
  },
  {
   "cell_type": "code",
   "execution_count": 259,
   "metadata": {
    "pycharm": {
     "is_executing": false
    }
   },
   "outputs": [],
   "source": [
    "#print(P)"
   ]
  },
  {
   "cell_type": "code",
   "execution_count": 260,
   "metadata": {
    "pycharm": {
     "is_executing": false
    }
   },
   "outputs": [],
   "source": [
    "# REWARD\n",
    "r_goal = 1\n",
    "r_hole = -1\n",
    "r_other = 0\n",
    "R = np.zeros((size, 4))\n",
    "for s in range(size):\n",
    "    if world[s] == 'H':\n",
    "        for a in range(4):\n",
    "            R[s][a] = r_hole\n",
    "    elif world[s] == 'G':\n",
    "        for a in range(4):\n",
    "            R[s][a] = r_goal\n",
    "    else:\n",
    "        for a in range(4):\n",
    "            R[s][a] = r_other\n",
    "    "
   ]
  },
  {
   "cell_type": "code",
   "execution_count": 261,
   "metadata": {
    "pycharm": {
     "is_executing": false
    }
   },
   "outputs": [],
   "source": [
    "#print(R)"
   ]
  },
  {
   "cell_type": "code",
   "execution_count": 262,
   "metadata": {
    "pycharm": {
     "is_executing": false
    }
   },
   "outputs": [
    {
     "name": "stdout",
     "output_type": "stream",
     "text": [
      "(3, 0, 0, 0, 0, 3, 3, 3, 3, 0, 0, 2, 2, 3, 0, 0, 2, 0, 0, 2, 3, 3, 3, 3, 3, 3, 3, 3, 3, 0, 0, 2, 0, 0, 0, 0, 0, 0, 0, 0, 0, 0, 2, 3, 0, 0, 0, 0, 0, 0, 0, 2, 3, 1, 3, 0, 1, 1, 1, 0, 0, 0, 0, 1, 1, 0, 0, 2, 1, 0, 0, 1, 3, 1, 2, 3, 3, 3, 0, 0, 0, 0, 0, 0, 2, 1, 1, 0, 3, 0, 0, 2, 0, 0, 0, 0, 0, 2, 3, 3, 3, 3, 3, 3, 0, 0, 0, 2, 2, 3, 0, 0, 0, 0, 2, 0, 1, 1, 0, 0, 2, 3, 3, 3, 0, 0, 2, 0, 0, 0, 0, 0, 0, 2, 1, 1, 1, 2, 3, 1, 1, 1, 1, 0, 0, 0, 2, 3, 1, 2, 2, 1, 1, 1, 1, 1, 0, 3, 0, 0, 2, 0, 2, 0, 0, 0, 0, 0, 1, 0, 0, 2, 3, 3, 3, 3, 3, 3, 1, 0, 0, 2, 1, 2, 1, 0, 0, 0, 0, 3, 3, 0, 0, 0, 0, 0, 0, 0, 0, 2, 3, 2, 0, 1, 3, 2, 2, 3, 3, 3, 3, 0, 0, 2, 3, 1, 0, 0, 0, 0, 2, 1, 0, 0, 2, 0, 0, 2, 2, 3, 0, 0, 2, 3, 0, 0, 0, 0, 0, 0, 1, 1, 1, 3, 0, 0, 1, 2, 0, 0, 0, 2, 3, 0, 0, 2, 3, 3, 1, 1, 1, 3, 1, 1, 0, 0, 0, 2, 1, 1, 3, 0, 0, 1, 0, 0, 0, 0, 0, 0, 2, 0, 3, 0, 0, 2, 2, 1, 1, 1, 3, 3, 3, 3, 3, 0, 0, 0, 0, 0, 1, 1, 1, 2, 0, 0, 0, 0, 2, 3, 2, 0, 0, 0, 0, 0, 0, 2, 3, 1, 0, 0, 1, 1, 0, 0, 2, 2, 1, 1, 0, 0, 0, 2, 0, 0, 0, 1, 0, 0, 0, 0, 2, 0, 1, 1, 1, 0, 0, 0, 2, 3, 3, 3, 1, 1, 2, 0, 3, 0, 0, 2, 1, 2, 1, 2, 0, 0, 1, 1, 0, 0, 1, 3, 0, 0, 0, 2, 3, 2, 0, 0, 0, 0, 0, 0, 2, 3, 2, 1, 1, 1, 1, 0, 0, 0, 0, 2, 1, 1, 0, 0, 2, 0, 1, 0, 0, 2, 1, 0, 0, 2, 2, 2, 1, 1, 0, 1, 1, 0, 0, 0, 0, 2, 1, 2, 0, 0, 0, 0, 0, 2, 3, 1, 3, 3, 2, 1, 1, 0, 0, 2, 0, 0, 0, 0, 2, 2, 0, 0, 0, 0, 0, 1, 0, 0, 0, 0, 0, 2, 1, 1, 0, 1, 1, 1, 1, 0, 0, 2, 0, 3, 3, 3, 1, 0, 0, 2, 1, 0, 0, 1, 2, 1, 1, 1, 1, 1, 1, 1, 1, 1, 1, 0, 0, 0, 0, 2, 0, 0, 2, 0, 0, 0, 0, 2, 0, 0, 0, 0, 0, 0, 0, 0, 0, 0, 0, 0, 0, 0, 0, 2, 1, 2, 0, 0, 1, 1, 0)\n",
      "Iterations needed:  30\n",
      "Time needed:  0.005001544952392578\n"
     ]
    }
   ],
   "source": [
    "# Value Iteration\n",
    "\n",
    "vi = mdptoolbox.mdp.ValueIteration(P, R, 0.8) #discount\n",
    "#vi.setVerbose()\n",
    "vi.run()\n",
    "print(vi.policy)\n",
    "print('Iterations needed: ', vi.iter)\n",
    "print('Time needed: ', vi.time)"
   ]
  },
  {
   "cell_type": "code",
   "execution_count": 263,
   "metadata": {
    "pycharm": {
     "is_executing": false
    }
   },
   "outputs": [
    {
     "name": "stdout",
     "output_type": "stream",
     "text": [
      "(0, 0, 0, 0, 0, 0, 3, 3, 3, 0, 0, 2, 2, 3, 0, 0, 2, 0, 0, 2, 3, 3, 3, 3, 3, 3, 3, 3, 3, 0, 0, 2, 0, 0, 0, 2, 0, 0, 0, 0, 0, 0, 2, 3, 0, 0, 0, 0, 0, 0, 0, 2, 3, 1, 3, 0, 1, 1, 1, 0, 0, 0, 0, 2, 1, 0, 0, 2, 1, 0, 0, 3, 3, 1, 2, 3, 3, 3, 0, 0, 0, 0, 0, 0, 2, 1, 1, 0, 3, 1, 0, 2, 0, 0, 0, 0, 0, 2, 3, 3, 3, 3, 3, 3, 0, 0, 0, 2, 2, 3, 0, 0, 0, 0, 2, 0, 1, 1, 0, 0, 2, 3, 3, 3, 0, 0, 2, 3, 0, 1, 0, 0, 0, 2, 1, 1, 1, 2, 3, 1, 1, 1, 1, 0, 0, 0, 2, 3, 1, 2, 2, 2, 1, 1, 1, 1, 1, 3, 0, 0, 2, 0, 2, 0, 0, 0, 0, 0, 1, 0, 0, 2, 3, 3, 3, 3, 3, 3, 1, 0, 0, 2, 1, 2, 1, 0, 0, 0, 0, 3, 3, 0, 0, 0, 0, 2, 0, 0, 0, 2, 3, 2, 0, 3, 3, 2, 2, 3, 3, 3, 3, 0, 0, 2, 3, 1, 0, 0, 2, 0, 2, 1, 0, 0, 2, 0, 0, 2, 2, 3, 0, 0, 2, 3, 0, 0, 0, 0, 2, 0, 1, 1, 1, 3, 0, 0, 1, 2, 0, 1, 0, 2, 3, 0, 0, 2, 3, 3, 1, 1, 1, 3, 1, 1, 0, 0, 0, 2, 1, 1, 2, 0, 0, 3, 0, 0, 0, 0, 0, 0, 2, 0, 3, 0, 0, 2, 2, 1, 1, 1, 3, 3, 3, 3, 3, 0, 0, 0, 0, 0, 1, 0, 3, 2, 0, 0, 0, 0, 2, 3, 2, 0, 0, 3, 0, 0, 0, 2, 3, 1, 0, 0, 1, 1, 0, 0, 2, 2, 1, 1, 1, 0, 0, 2, 0, 0, 0, 3, 0, 0, 0, 0, 2, 0, 1, 1, 1, 0, 1, 0, 2, 3, 3, 3, 1, 1, 2, 0, 3, 0, 0, 2, 1, 2, 1, 2, 0, 0, 1, 1, 0, 0, 1, 3, 0, 0, 0, 2, 3, 2, 0, 0, 2, 0, 0, 0, 2, 3, 2, 1, 1, 1, 1, 0, 0, 0, 0, 2, 1, 1, 0, 0, 2, 0, 1, 0, 0, 2, 1, 0, 0, 2, 2, 2, 1, 1, 0, 1, 1, 0, 0, 2, 0, 2, 1, 2, 0, 0, 0, 0, 0, 2, 3, 1, 3, 3, 2, 1, 1, 0, 0, 2, 0, 0, 0, 0, 2, 2, 0, 0, 0, 0, 0, 2, 0, 0, 2, 0, 0, 2, 1, 1, 0, 1, 1, 1, 1, 0, 0, 2, 0, 3, 3, 3, 1, 1, 0, 2, 1, 0, 0, 2, 2, 1, 1, 1, 1, 1, 1, 1, 1, 1, 1, 0, 0, 0, 0, 2, 0, 0, 2, 0, 0, 0, 0, 2, 0, 0, 0, 0, 0, 0, 0, 0, 0, 0, 0, 0, 0, 1, 0, 2, 1, 2, 0, 0, 1, 1, 0)\n",
      "Iterations needed:  1000\n",
      "Time needed:  6.319164276123047\n",
      "Error with optimal VI policy:  0.05671077504725898\n"
     ]
    }
   ],
   "source": [
    "# Policy Iteration\n",
    "\n",
    "pi = mdptoolbox.mdp.PolicyIteration(P, R, 0.9, max_iter=1000) #discount\n",
    "#pi.setVerbose()\n",
    "pi.run()\n",
    "print(pi.policy)\n",
    "print('Iterations needed: ', pi.iter)\n",
    "print('Time needed: ', pi.time)\n",
    "error = np.mean(np.array(vi.policy) != np.array(pi.policy))\n",
    "print('Error with optimal VI policy: ', error)"
   ]
  },
  {
   "cell_type": "code",
   "execution_count": null,
   "metadata": {},
   "outputs": [],
   "source": []
  },
  {
   "cell_type": "code",
   "execution_count": 265,
   "metadata": {},
   "outputs": [
    {
     "name": "stdout",
     "output_type": "stream",
     "text": [
      "(0, 0, 0, 0, 0, 0, 0, 3, 0, 0, 2, 3, 0, 0, 0, 0, 2, 1, 3, 1, 0, 0, 0, 0, 3, 3, 3, 3, 0, 0, 3, 2, 0, 2, 3, 0, 0, 2, 0, 0, 3, 1, 2, 1, 0, 3, 0, 3, 0, 2, 0, 2, 0, 1, 0, 0, 1, 1, 0, 0, 2, 0, 1, 2, 1, 0, 3, 0, 1, 0, 2, 2, 1, 3, 2, 0, 0, 0, 0, 0, 0, 0, 0, 2, 3, 1, 0, 0, 1, 3, 1, 2, 0, 2, 0, 3, 0, 2, 0, 0, 0, 0, 3, 0, 0, 0, 0, 2, 2, 3, 0, 3, 2, 1, 2, 0, 1, 1, 0, 0, 2, 0, 3, 1, 2, 1, 2, 0, 0, 3, 0, 3, 2, 2, 1, 1, 3, 0, 3, 1, 1, 1, 1, 0, 0, 3, 2, 3, 1, 1, 0, 0, 0, 1, 0, 1, 0, 1, 0, 3, 1, 2, 2, 0, 0, 0, 0, 0, 1, 2, 1, 1, 3, 3, 0, 3, 0, 0, 0, 0, 3, 2, 1, 0, 1, 0, 0, 0, 0, 3, 0, 0, 1, 2, 2, 0, 3, 0, 2, 2, 3, 0, 0, 1, 2, 0, 0, 3, 3, 3, 3, 2, 0, 3, 0, 0, 2, 0, 2, 1, 2, 1, 2, 2, 2, 0, 0, 3, 2, 0, 0, 0, 2, 1, 0, 0, 3, 2, 0, 3, 1, 1, 3, 3, 0, 1, 1, 0, 0, 1, 0, 2, 3, 2, 0, 2, 3, 2, 1, 1, 1, 3, 1, 2, 0, 1, 3, 2, 1, 1, 0, 0, 0, 1, 0, 2, 1, 1, 2, 1, 2, 0, 3, 1, 1, 2, 2, 0, 1, 1, 0, 1, 0, 3, 0, 0, 3, 2, 0, 2, 1, 1, 2, 2, 0, 3, 2, 1, 1, 3, 1, 0, 0, 0, 1, 3, 1, 2, 2, 1, 0, 1, 1, 1, 0, 0, 0, 0, 1, 0, 3, 1, 0, 2, 0, 0, 0, 0, 0, 3, 0, 1, 2, 0, 0, 1, 2, 0, 2, 2, 2, 0, 0, 0, 1, 1, 0, 0, 3, 1, 0, 3, 1, 0, 1, 0, 0, 1, 0, 0, 2, 1, 1, 2, 0, 3, 0, 2, 3, 0, 0, 1, 1, 0, 0, 3, 2, 3, 0, 0, 1, 0, 0, 0, 0, 2, 1, 0, 1, 2, 3, 2, 2, 0, 1, 0, 1, 3, 1, 0, 0, 0, 0, 0, 0, 0, 0, 2, 3, 1, 0, 2, 1, 2, 1, 0, 0, 0, 0, 2, 2, 2, 3, 1, 1, 2, 0, 0, 0, 0, 1, 3, 3, 3, 0, 2, 2, 0, 0, 0, 0, 2, 3, 1, 0, 0, 3, 0, 1, 0, 0, 0, 0, 1, 0, 0, 1, 0, 3, 2, 0, 3, 0, 1, 1, 1, 3, 2, 1, 0, 2, 1, 0, 0, 0, 0, 0, 0, 0, 0, 0, 1, 0, 0, 3, 1, 1, 2, 0, 2, 2, 0, 3, 2, 3, 0, 0, 0, 0, 0, 0, 0, 0, 0, 0, 0, 0, 1, 3, 2, 3, 2, 1, 0, 0, 3, 0, 0, 0)\n",
      "Time needed:  15.483398675918579\n",
      "Error with optimal VI policy:  0.48015122873345933\n"
     ]
    }
   ],
   "source": [
    "# Q-learning\n",
    "\n",
    "ql = QLearning(P, R, 0.95, alpha=0.1, alpha_decay=0.99, alpha_min=0.005,\n",
    "                 epsilon=1.0, epsilon_min=0.15, epsilon_decay=0.999,\n",
    "                 n_iter=100000, skip_check=False, iter_callback=None,\n",
    "                 run_stat_frequency=None) #discount\n",
    "ql.run()\n",
    "print(ql.policy)\n",
    "#print(ql.mean_descepancy)\n",
    "print('Time needed: ', ql.time)\n",
    "error = np.mean(np.array(vi.policy) != np.array(ql.policy))\n",
    "print('Error with optimal VI policy: ', error)"
   ]
  },
  {
   "cell_type": "code",
   "execution_count": 275,
   "metadata": {},
   "outputs": [
    {
     "name": "stdout",
     "output_type": "stream",
     "text": [
      "Time needed:  4.722792387008667\n",
      "Error with optimal VI policy:  0.6143667296786389\n",
      "Time needed:  4.69487190246582\n",
      "Error with optimal VI policy:  0.5954631379962193\n",
      "Time needed:  4.5707573890686035\n",
      "Error with optimal VI policy:  0.610586011342155\n",
      "Time needed:  4.837579965591431\n",
      "Error with optimal VI policy:  0.5973534971644613\n",
      "Time needed:  4.630032062530518\n",
      "Error with optimal VI policy:  0.6181474480151229\n",
      "Done.\n"
     ]
    }
   ],
   "source": [
    "all_error = []\n",
    "all_time = []\n",
    "X = [0.2, 0.25, 0.3, 0.35, 0.4]\n",
    "for n in X:\n",
    "    ql = QLearning(P, R, 0.9, alpha=0.1, alpha_decay=0.99, alpha_min=0.0005,\n",
    "                     epsilon=1, epsilon_min=n, epsilon_decay=0.999,\n",
    "                     n_iter=30000, skip_check=False, iter_callback=None,\n",
    "                     run_stat_frequency=None) #discount\n",
    "    ql.run()\n",
    "    #print(ql.policy)\n",
    "    #print(ql.V)\n",
    "    print('Time needed: ', ql.time)\n",
    "    error = np.mean(np.array(vi.policy) != np.array(ql.policy))\n",
    "    print('Error with optimal VI policy: ', error)\n",
    "    all_error.append(error)\n",
    "    all_time.append(ql.time)\n",
    "print('Done.')"
   ]
  },
  {
   "cell_type": "code",
   "execution_count": 277,
   "metadata": {},
   "outputs": [
    {
     "data": {
      "image/png": "[encoded data removed]",
      "text/plain": [
       "<Figure size 432x288 with 1 Axes>"
      ]
     },
     "metadata": {},
     "output_type": "display_data"
    }
   ],
   "source": [
    "plt.style.use('dark_background')\n",
    "ax=plt.axes()\n",
    "ax.set(xlim=(0.1, 0.5), ylim=(0, 0.8))\n",
    "ax.grid()\n",
    "plt.title('Frozen Lake QL, Error vs Min Epsilon')\n",
    "plt.xlabel('Total Number of Iterations')\n",
    "plt.ylabel('Error (compared to VI policy)')\n",
    "plt.plot(X, all_error, c = 'y', lw=7)\n",
    "plt.savefig('Frozelake_QL_errorAndmEps.png')"
   ]
  },
  {
   "cell_type": "code",
   "execution_count": null,
   "metadata": {},
   "outputs": [],
   "source": []
  }
 ],
 "metadata": {
  "kernelspec": {
   "display_name": "Python 3",
   "language": "python",
   "name": "python3"
  },
  "language_info": {
   "codemirror_mode": {
    "name": "ipython",
    "version": 3
   },
   "file_extension": ".py",
   "mimetype": "text/x-python",
   "name": "python",
   "nbconvert_exporter": "python",
   "pygments_lexer": "ipython3",
   "version": "3.6.10"
  }
 },
 "nbformat": 4,
 "nbformat_minor": 4
}
